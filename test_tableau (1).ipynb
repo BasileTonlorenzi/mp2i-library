{
 "cells": [
  {
   "cell_type": "code",
   "execution_count": 1,
   "id": "b0c46a39-bf38-453b-ab89-192f8ac7fc70",
   "metadata": {},
   "outputs": [
    {
     "name": "stdout",
     "output_type": "stream",
     "text": [
      "type 'a array_dyn = { mutable t : 'a array; mutable n : int; }\n",
      "val copy : 'a array -> 'a array -> unit = <fun>\n",
      "val append : 'a -> 'a array_dyn -> unit = <fun>\n",
      "val pop : 'a array_dyn -> unit = <fun>\n",
      "val concat : 'a array_dyn -> 'a array_dyn -> 'a array_dyn = <fun>\n",
      "val suppr : 'a array_dyn -> int -> 'a array_dyn = <fun>\n",
      "val filter : 'a array_dyn -> ('a -> bool) -> 'a array_dyn = <fun>\n"
     ]
    }
   ],
   "source": [
    "#use \"tableau_dynamique.ml\""
   ]
  },
  {
   "cell_type": "code",
   "execution_count": 2,
   "id": "3dda3c85-8885-4504-a451-3a0b554f6cf3",
   "metadata": {},
   "outputs": [
    {
     "data": {
      "text/plain": [
       "val d : int array_dyn = {t = [|0|]; n = 0}\n"
      ]
     },
     "execution_count": 2,
     "metadata": {},
     "output_type": "execute_result"
    }
   ],
   "source": [
    "let d = {t = [|0|]; n = 0}"
   ]
  },
  {
   "cell_type": "code",
   "execution_count": 3,
   "id": "6606b648-dad9-4120-89b6-38798053e8bd",
   "metadata": {},
   "outputs": [
    {
     "data": {
      "text/plain": [
       "- : unit = ()\n"
      ]
     },
     "execution_count": 3,
     "metadata": {},
     "output_type": "execute_result"
    }
   ],
   "source": [
    "append 6 d"
   ]
  },
  {
   "cell_type": "code",
   "execution_count": 4,
   "id": "b27fa8ec-3461-412e-9b21-a474ddaf6e8a",
   "metadata": {},
   "outputs": [
    {
     "data": {
      "text/plain": [
       "- : unit = ()\n"
      ]
     },
     "execution_count": 4,
     "metadata": {},
     "output_type": "execute_result"
    }
   ],
   "source": [
    "append 98 d"
   ]
  },
  {
   "cell_type": "code",
   "execution_count": 5,
   "id": "605edaeb-7b98-4f7f-8d60-28972c7131e0",
   "metadata": {},
   "outputs": [
    {
     "data": {
      "text/plain": [
       "- : unit = ()\n"
      ]
     },
     "execution_count": 5,
     "metadata": {},
     "output_type": "execute_result"
    }
   ],
   "source": [
    "append 4 d"
   ]
  },
  {
   "cell_type": "code",
   "execution_count": 6,
   "id": "3f5926f5-ccc6-43b8-974d-d5596344f0c1",
   "metadata": {},
   "outputs": [
    {
     "data": {
      "text/plain": [
       "- : int array_dyn = {t = [|6; 98; 4; 6|]; n = 3}\n"
      ]
     },
     "execution_count": 6,
     "metadata": {},
     "output_type": "execute_result"
    }
   ],
   "source": [
    "d"
   ]
  },
  {
   "cell_type": "code",
   "execution_count": 7,
   "id": "68d6f77f-fc8a-49e0-9f03-4dbf8629469f",
   "metadata": {},
   "outputs": [
    {
     "data": {
      "text/plain": [
       "- : unit = ()\n"
      ]
     },
     "execution_count": 7,
     "metadata": {},
     "output_type": "execute_result"
    }
   ],
   "source": [
    "pop d"
   ]
  },
  {
   "cell_type": "code",
   "execution_count": 8,
   "id": "368e2bc4-b2a1-4c75-aacb-dc0218b7e7a1",
   "metadata": {},
   "outputs": [
    {
     "data": {
      "text/plain": [
       "- : unit = ()\n"
      ]
     },
     "execution_count": 8,
     "metadata": {},
     "output_type": "execute_result"
    }
   ],
   "source": [
    "pop d"
   ]
  },
  {
   "cell_type": "code",
   "execution_count": 9,
   "id": "41e0e779-3faa-4b69-a5f8-b6810707a2d2",
   "metadata": {},
   "outputs": [
    {
     "data": {
      "text/plain": [
       "- : int array_dyn = {t = [|6; 98; 4; 6|]; n = 1}\n"
      ]
     },
     "execution_count": 9,
     "metadata": {},
     "output_type": "execute_result"
    }
   ],
   "source": [
    "d"
   ]
  },
  {
   "cell_type": "code",
   "execution_count": 10,
   "id": "a4d1bcfd-195b-4142-a88e-2fd8da07d3ee",
   "metadata": {},
   "outputs": [
    {
     "data": {
      "text/plain": [
       "- : int array_dyn = {t = [|2; 4; 5; 4; 7; 8; 12; 43; 9; 2; 2|]; n = 8}\n"
      ]
     },
     "execution_count": 10,
     "metadata": {},
     "output_type": "execute_result"
    }
   ],
   "source": [
    "concat {t = [|2;4;5;0|]; n = 3} {t = [|4; 7; 8; 12; 43; 9; 78; 65|]; n = 5}"
   ]
  },
  {
   "cell_type": "code",
   "execution_count": 15,
   "id": "1b9f6d36-1755-4051-a9d7-1200ca8dae0a",
   "metadata": {},
   "outputs": [
    {
     "data": {
      "text/plain": [
       "- : int array_dyn = {t = [|6; 9; 0; -5; -6; 6; 6; 6|]; n = 5}\n"
      ]
     },
     "execution_count": 15,
     "metadata": {},
     "output_type": "execute_result"
    }
   ],
   "source": [
    "filter {t = [|6; 9; 0; -5; -6; -9; 54; -1|]; n = 5} (fun x -> x = x)"
   ]
  },
  {
   "cell_type": "code",
   "execution_count": null,
   "id": "35fecc34-defc-41ba-ac97-fa8241958046",
   "metadata": {},
   "outputs": [],
   "source": []
  }
 ],
 "metadata": {
  "kernelspec": {
   "display_name": "OCaml default",
   "language": "OCaml",
   "name": "ocaml-jupyter"
  },
  "language_info": {
   "codemirror_mode": "text/x-ocaml",
   "file_extension": ".ml",
   "mimetype": "text/x-ocaml",
   "name": "OCaml",
   "nbconverter_exporter": null,
   "pygments_lexer": "OCaml",
   "version": "4.08.1"
  }
 },
 "nbformat": 4,
 "nbformat_minor": 5
}
