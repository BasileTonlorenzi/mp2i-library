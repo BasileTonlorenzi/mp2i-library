{
 "cells": [
  {
   "cell_type": "code",
   "execution_count": 1,
   "id": "2f8f0aef-9387-43bf-8248-ee8c18a38ce7",
   "metadata": {},
   "outputs": [
    {
     "name": "stdout",
     "output_type": "stream",
     "text": [
      "type 'a array_dyn = { mutable t : 'a array; mutable n : int; }\n",
      "val reverse : 'a array_dyn -> 'a array_dyn = <fun>\n",
      "val dichotomie : 'a array_dyn -> 'a -> bool = <fun>\n",
      "val split : 'a array_dyn -> int -> 'a array_dyn * 'a array_dyn = <fun>\n"
     ]
    }
   ],
   "source": [
    "#use \"tableau2.ml\""
   ]
  },
  {
   "cell_type": "code",
   "execution_count": 2,
   "id": "03507aaa-6f5d-428c-a241-49a61684a5b6",
   "metadata": {},
   "outputs": [
    {
     "data": {
      "text/plain": [
       "- : int array_dyn = {t = [|5; 4; 3; 2; 1|]; n = 5}\n"
      ]
     },
     "execution_count": 2,
     "metadata": {},
     "output_type": "execute_result"
    }
   ],
   "source": [
    "reverse {t = [|1;2;3;4;5|]; n = 5}"
   ]
  },
  {
   "cell_type": "code",
   "execution_count": 3,
   "id": "fd8afc0e-1d7a-47bf-b5f5-0e7c1e47906c",
   "metadata": {},
   "outputs": [
    {
     "ename": "error",
     "evalue": "runtime_error",
     "output_type": "error",
     "traceback": [
      "\u001b[31mException: Invalid_argument \"index out of bounds\".\nRaised by primitive operation at file \"tableau2.ml\", line 33, characters 9-36\nCalled from file \"toplevel/toploop.ml\", line 208, characters 17-27\n\u001b[0m"
     ]
    }
   ],
   "source": [
    "split {t = [|1;2;3;4;5|]; n = 5} 2"
   ]
  },
  {
   "cell_type": "code",
   "execution_count": 4,
   "id": "8703fa05-a674-4d2a-88f0-e85ba738e98e",
   "metadata": {},
   "outputs": [
    {
     "data": {
      "text/plain": [
       "- : bool = true\n"
      ]
     },
     "execution_count": 4,
     "metadata": {},
     "output_type": "execute_result"
    }
   ],
   "source": [
    "dichotomie {t = [|1;2;3;4;5|]; n = 5} 3"
   ]
  },
  {
   "cell_type": "code",
   "execution_count": null,
   "id": "40d5ec4b-6245-4d2d-a671-70edaac3a7b2",
   "metadata": {},
   "outputs": [],
   "source": []
  }
 ],
 "metadata": {
  "kernelspec": {
   "display_name": "OCaml default",
   "language": "OCaml",
   "name": "ocaml-jupyter"
  },
  "language_info": {
   "codemirror_mode": "text/x-ocaml",
   "file_extension": ".ml",
   "mimetype": "text/x-ocaml",
   "name": "OCaml",
   "nbconverter_exporter": null,
   "pygments_lexer": "OCaml",
   "version": "4.08.1"
  }
 },
 "nbformat": 4,
 "nbformat_minor": 5
}
