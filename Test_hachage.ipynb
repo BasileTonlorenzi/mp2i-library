{
 "cells": [
  {
   "cell_type": "code",
   "execution_count": 1,
   "id": "b6afedae-259b-43de-b7f8-5d1501220266",
   "metadata": {},
   "outputs": [
    {
     "name": "stdout",
     "output_type": "stream",
     "text": [
      "type ('a, 'b) table_hachage = {\n",
      "  hache : 'a -> int;\n",
      "  donnees : ('a * 'b) list array;\n",
      "  largeur : int;\n",
      "}\n",
      "val creer : ('a -> int) -> int -> ('a, 'b) table_hachage = <fun>\n",
      "val recherche : ('a, 'b) table_hachage -> 'a -> bool = <fun>\n",
      "val element : ('a, 'b) table_hachage -> 'a -> 'b = <fun>\n",
      "val ajout : ('a, 'b) table_hachage -> 'a -> 'b -> unit = <fun>\n",
      "val suppr : ('a, 'b) table_hachage -> 'a -> unit = <fun>\n",
      "val filter : ('a, 'b) table_hachage -> ('b -> bool) -> ('a, 'b) table_hachage =\n",
      "  <fun>\n"
     ]
    }
   ],
   "source": [
    "#use \"Hachage.ml\""
   ]
  },
  {
   "cell_type": "code",
   "execution_count": 2,
   "id": "d65acb36-4946-4d0c-938e-d9e4072bd73b",
   "metadata": {},
   "outputs": [
    {
     "data": {
      "text/plain": [
       "val h1 : (int, '_weak1) table_hachage =\n",
       "  {hache = <fun>; donnees = [|[]; []; []; []; []; []|]; largeur = 6}\n"
      ]
     },
     "execution_count": 2,
     "metadata": {},
     "output_type": "execute_result"
    }
   ],
   "source": [
    "let h1 = creer (fun x -> x*2) 6"
   ]
  },
  {
   "cell_type": "code",
   "execution_count": 3,
   "id": "64822398-2f7d-492a-85eb-dedc4d16d659",
   "metadata": {},
   "outputs": [
    {
     "data": {
      "text/plain": [
       "- : unit = ()\n"
      ]
     },
     "execution_count": 3,
     "metadata": {},
     "output_type": "execute_result"
    }
   ],
   "source": [
    "ajout h1 0 4"
   ]
  },
  {
   "cell_type": "code",
   "execution_count": 4,
   "id": "96b0fd2c-eeaf-4577-a5ec-8ea92dc0e63b",
   "metadata": {},
   "outputs": [
    {
     "data": {
      "text/plain": [
       "- : (int, int) table_hachage =\n",
       "{hache = <fun>; donnees = [|[(0, 4)]; []; []; []; []; []|]; largeur = 6}\n"
      ]
     },
     "execution_count": 4,
     "metadata": {},
     "output_type": "execute_result"
    }
   ],
   "source": [
    "h1"
   ]
  },
  {
   "cell_type": "code",
   "execution_count": 5,
   "id": "b6bde24f-77c1-4840-9c0e-8bf7a074ddd0",
   "metadata": {},
   "outputs": [
    {
     "ename": "error",
     "evalue": "runtime_error",
     "output_type": "error",
     "traceback": [
      "\u001b[31mException: Failure \"Deja un k\".\nRaised at file \"stdlib.ml\", line 29, characters 22-33\nCalled from file \"toplevel/toploop.ml\", line 208, characters 17-27\n\u001b[0m"
     ]
    }
   ],
   "source": [
    "ajout h1 0 8"
   ]
  },
  {
   "cell_type": "code",
   "execution_count": 6,
   "id": "ce9ee791-5360-4008-97b9-55735d12c1b1",
   "metadata": {},
   "outputs": [
    {
     "data": {
      "text/plain": [
       "- : unit = ()\n"
      ]
     },
     "execution_count": 6,
     "metadata": {},
     "output_type": "execute_result"
    }
   ],
   "source": [
    "ajout h1 1 6"
   ]
  },
  {
   "cell_type": "code",
   "execution_count": 7,
   "id": "db342c46-d35f-4c3a-80fe-8b87c6c368e0",
   "metadata": {},
   "outputs": [
    {
     "data": {
      "text/plain": [
       "- : unit = ()\n"
      ]
     },
     "execution_count": 7,
     "metadata": {},
     "output_type": "execute_result"
    }
   ],
   "source": [
    "ajout h1 2 8"
   ]
  },
  {
   "cell_type": "code",
   "execution_count": 8,
   "id": "c4ed2bb4-79c9-41af-97c0-1ed7c8ba981c",
   "metadata": {},
   "outputs": [
    {
     "data": {
      "text/plain": [
       "- : (int, int) table_hachage =\n",
       "{hache = <fun>; donnees = [|[(0, 4)]; []; [(1, 6)]; []; [(2, 8)]; []|];\n",
       " largeur = 6}\n"
      ]
     },
     "execution_count": 8,
     "metadata": {},
     "output_type": "execute_result"
    }
   ],
   "source": [
    "h1"
   ]
  },
  {
   "cell_type": "code",
   "execution_count": 9,
   "id": "b902000c-faf7-4010-8799-41058f17b1aa",
   "metadata": {},
   "outputs": [
    {
     "data": {
      "text/plain": [
       "- : int = 8\n"
      ]
     },
     "execution_count": 9,
     "metadata": {},
     "output_type": "execute_result"
    }
   ],
   "source": [
    "element h1 2"
   ]
  },
  {
   "cell_type": "code",
   "execution_count": 10,
   "id": "2036f384-c7f3-43f0-9974-01b78f0244cf",
   "metadata": {},
   "outputs": [
    {
     "data": {
      "text/plain": [
       "- : bool = true\n"
      ]
     },
     "execution_count": 10,
     "metadata": {},
     "output_type": "execute_result"
    }
   ],
   "source": [
    "recherche h1 1"
   ]
  },
  {
   "cell_type": "code",
   "execution_count": 11,
   "id": "1df979a6-6917-408f-8d62-c8cf48959e4e",
   "metadata": {},
   "outputs": [
    {
     "data": {
      "text/plain": [
       "- : unit = ()\n"
      ]
     },
     "execution_count": 11,
     "metadata": {},
     "output_type": "execute_result"
    }
   ],
   "source": [
    "suppr h1 2"
   ]
  },
  {
   "cell_type": "code",
   "execution_count": 12,
   "id": "1e3fd56e-ba1a-481a-9709-e8071b37d3df",
   "metadata": {},
   "outputs": [
    {
     "data": {
      "text/plain": [
       "- : (int, int) table_hachage =\n",
       "{hache = <fun>; donnees = [|[(0, 4)]; []; [(1, 6)]; []; []; []|];\n",
       " largeur = 6}\n"
      ]
     },
     "execution_count": 12,
     "metadata": {},
     "output_type": "execute_result"
    }
   ],
   "source": [
    "h1"
   ]
  },
  {
   "cell_type": "code",
   "execution_count": 13,
   "id": "f8aad575-a5c6-44d7-851a-a489f9ae9cc5",
   "metadata": {},
   "outputs": [
    {
     "data": {
      "text/plain": [
       "- : (int, int) table_hachage =\n",
       "{hache = <fun>; donnees = [|[]; []; [(1, 6)]; []; []; []|]; largeur = 6}\n"
      ]
     },
     "execution_count": 13,
     "metadata": {},
     "output_type": "execute_result"
    }
   ],
   "source": [
    "filter h1 (fun x -> x > 5)"
   ]
  },
  {
   "cell_type": "code",
   "execution_count": null,
   "id": "d083748b-70d8-4abe-a816-50dd6fb7dd96",
   "metadata": {},
   "outputs": [],
   "source": []
  }
 ],
 "metadata": {
  "kernelspec": {
   "display_name": "OCaml default",
   "language": "OCaml",
   "name": "ocaml-jupyter"
  },
  "language_info": {
   "codemirror_mode": "text/x-ocaml",
   "file_extension": ".ml",
   "mimetype": "text/x-ocaml",
   "name": "OCaml",
   "nbconverter_exporter": null,
   "pygments_lexer": "OCaml",
   "version": "4.08.1"
  }
 },
 "nbformat": 4,
 "nbformat_minor": 5
}
