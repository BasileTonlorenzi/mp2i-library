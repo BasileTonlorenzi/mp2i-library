{
 "cells": [
  {
   "cell_type": "code",
   "execution_count": 9,
   "id": "975fe273-7607-4ca2-abd2-d8d4621c0bff",
   "metadata": {},
   "outputs": [
    {
     "name": "stdout",
     "output_type": "stream",
     "text": [
      "val concat : 'a list -> 'a list -> 'a list = <fun>\n",
      "val split : 'a list -> 'a list * 'a list = <fun>\n",
      "val fusion : 'a list -> 'a list -> 'a list = <fun>\n",
      "val tri_fusion : 'a list -> 'a list = <fun>\n",
      "val filter : ('a -> bool) -> 'a list -> 'a list = <fun>\n",
      "val partition : 'a list -> 'a -> 'a list * 'a list = <fun>\n",
      "val tri_rapide : 'a list -> 'a list = <fun>\n"
     ]
    }
   ],
   "source": [
    "#use \"liste_simple.ml\""
   ]
  },
  {
   "cell_type": "code",
   "execution_count": 10,
   "id": "533fbd45-37e6-41ef-bc57-d0ef2567a96e",
   "metadata": {},
   "outputs": [
    {
     "data": {
      "text/plain": [
       "val l : int list = [9; 8; 7; 65; 2; -78; -41; -8; 14]\n"
      ]
     },
     "execution_count": 10,
     "metadata": {},
     "output_type": "execute_result"
    }
   ],
   "source": [
    "let l = [9; 8; 7; 65; 2; -78; -41; -8; 14]"
   ]
  },
  {
   "cell_type": "code",
   "execution_count": 11,
   "id": "6b28dccc-2548-47f3-bf8b-d82994db5815",
   "metadata": {},
   "outputs": [
    {
     "data": {
      "text/plain": [
       "- : int list = [65; 14; 9; 8; 7; 2; -8; -41; -78]\n"
      ]
     },
     "execution_count": 11,
     "metadata": {},
     "output_type": "execute_result"
    }
   ],
   "source": [
    "tri_fusion l"
   ]
  },
  {
   "cell_type": "code",
   "execution_count": 4,
   "id": "9022703f-98dd-4d49-8c41-49e2d1d1341c",
   "metadata": {},
   "outputs": [
    {
     "data": {
      "text/plain": [
       "- : int list = [-78; -41; -8; 2; 7; 8; 9; 14; 65]\n"
      ]
     },
     "execution_count": 4,
     "metadata": {},
     "output_type": "execute_result"
    }
   ],
   "source": [
    "tri_rapide l"
   ]
  },
  {
   "cell_type": "code",
   "execution_count": null,
   "id": "09e1d7ba-b583-4960-b61b-cdb4a79c380f",
   "metadata": {},
   "outputs": [],
   "source": []
  }
 ],
 "metadata": {
  "kernelspec": {
   "display_name": "OCaml default",
   "language": "OCaml",
   "name": "ocaml-jupyter"
  },
  "language_info": {
   "codemirror_mode": "text/x-ocaml",
   "file_extension": ".ml",
   "mimetype": "text/x-ocaml",
   "name": "OCaml",
   "nbconverter_exporter": null,
   "pygments_lexer": "OCaml",
   "version": "4.08.1"
  }
 },
 "nbformat": 4,
 "nbformat_minor": 5
}
